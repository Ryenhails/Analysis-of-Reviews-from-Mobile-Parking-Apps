{
 "cells": [
  {
   "cell_type": "code",
   "execution_count": 12,
   "id": "acab67a3",
   "metadata": {},
   "outputs": [],
   "source": [
    "from nltk.corpus import wordnet\n",
    "import nltk\n",
    "import pandas "
   ]
  },
  {
   "cell_type": "code",
   "execution_count": 13,
   "id": "ec66b165",
   "metadata": {},
   "outputs": [
    {
     "data": {
      "text/html": [
       "<div>\n",
       "<style scoped>\n",
       "    .dataframe tbody tr th:only-of-type {\n",
       "        vertical-align: middle;\n",
       "    }\n",
       "\n",
       "    .dataframe tbody tr th {\n",
       "        vertical-align: top;\n",
       "    }\n",
       "\n",
       "    .dataframe thead th {\n",
       "        text-align: right;\n",
       "    }\n",
       "</style>\n",
       "<table border=\"1\" class=\"dataframe\">\n",
       "  <thead>\n",
       "    <tr style=\"text-align: right;\">\n",
       "      <th></th>\n",
       "      <th>indicator</th>\n",
       "      <th>keywords</th>\n",
       "    </tr>\n",
       "  </thead>\n",
       "  <tbody>\n",
       "    <tr>\n",
       "      <th>0</th>\n",
       "      <td>perceived ease of use</td>\n",
       "      <td>easy,quick,easier,improve,clear,understandable...</td>\n",
       "    </tr>\n",
       "    <tr>\n",
       "      <th>1</th>\n",
       "      <td>perceived usefulness</td>\n",
       "      <td>accomplish,useful,informative,productivity,pro...</td>\n",
       "    </tr>\n",
       "    <tr>\n",
       "      <th>2</th>\n",
       "      <td>satisfaction</td>\n",
       "      <td>satisfied,beneficial,meets,fulfill,gratify,con...</td>\n",
       "    </tr>\n",
       "    <tr>\n",
       "      <th>3</th>\n",
       "      <td>attitude</td>\n",
       "      <td>think,wonderful,would,positive,better,good,enj...</td>\n",
       "    </tr>\n",
       "    <tr>\n",
       "      <th>4</th>\n",
       "      <td>behavioral intentions</td>\n",
       "      <td>willing,intend,recommend,planned,would,plan</td>\n",
       "    </tr>\n",
       "  </tbody>\n",
       "</table>\n",
       "</div>"
      ],
      "text/plain": [
       "               indicator                                           keywords\n",
       "0  perceived ease of use  easy,quick,easier,improve,clear,understandable...\n",
       "1   perceived usefulness  accomplish,useful,informative,productivity,pro...\n",
       "2           satisfaction  satisfied,beneficial,meets,fulfill,gratify,con...\n",
       "3               attitude  think,wonderful,would,positive,better,good,enj...\n",
       "4  behavioral intentions        willing,intend,recommend,planned,would,plan"
      ]
     },
     "execution_count": 13,
     "metadata": {},
     "output_type": "execute_result"
    }
   ],
   "source": [
    "df = pandas.read_csv(\"indicators.csv\", sep=\";\",engine='python')\n",
    "df"
   ]
  },
  {
   "cell_type": "code",
   "execution_count": 14,
   "id": "075aa856",
   "metadata": {},
   "outputs": [],
   "source": [
    "for i in df.index:\n",
    "    myKeywords=df.at[i,'keywords'].split(',')#from string to python list\n",
    "  \n",
    "    for keyword in myKeywords: #for every keyword\n",
    "        if(len(wordnet.synsets(keyword))>0):\n",
    "            for syn in wordnet.synsets(keyword): #for every possible meaning of the word\n",
    "                for l in syn.lemmas():\n",
    "                    df.at[i,'keywords']=df.at[i,'keywords']+','+l.name()# add synonyms\n",
    "                    if l.antonyms():\n",
    "                        df.at[i,'keywords']=df.at[i,'keywords']+','+l.antonyms()[0].name()# add antonyms\n",
    "                for hyponym in syn.hyponyms():\n",
    "                    df.at[i,'keywords']=df.at[i,'keywords']+','+hyponym.lemma_names()[0]# add hyponyms\n",
    "                for hypernym in syn.hypernyms():\n",
    "                    df.at[i,'keywords']=df.at[i,'keywords']+','+hypernym.lemma_names()[0]# add hyponyms        \n",
    "    \n",
    "#removing duplicates from the new expanded keyword list\n",
    "for i in df.index:\n",
    "    myKeywords=df.at[i,'keywords'].split(',')  \n",
    "    myKeywords = list(dict.fromkeys(myKeywords))\n",
    "    myKeywordsStr = ','.join([str(elem) for elem in myKeywords])\n",
    "    df.at[i,'keywords']=myKeywordsStr\n",
    "      "
   ]
  },
  {
   "cell_type": "code",
   "execution_count": 15,
   "id": "e95d8148",
   "metadata": {},
   "outputs": [],
   "source": [
    "df.to_csv('/Users/WorkSpace/Desktop/extensionKeywords4.csv', mode='w',  sep=';', index=False)"
   ]
  }
 ],
 "metadata": {
  "kernelspec": {
   "display_name": "Python 3 (ipykernel)",
   "language": "python",
   "name": "python3"
  },
  "language_info": {
   "codemirror_mode": {
    "name": "ipython",
    "version": 3
   },
   "file_extension": ".py",
   "mimetype": "text/x-python",
   "name": "python",
   "nbconvert_exporter": "python",
   "pygments_lexer": "ipython3",
   "version": "3.9.5"
  }
 },
 "nbformat": 4,
 "nbformat_minor": 5
}
