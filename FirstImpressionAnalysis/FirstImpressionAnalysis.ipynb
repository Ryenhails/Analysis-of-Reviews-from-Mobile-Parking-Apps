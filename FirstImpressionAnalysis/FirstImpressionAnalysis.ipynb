{
 "cells": [
  {
   "cell_type": "code",
   "execution_count": 35,
   "id": "1702ce46",
   "metadata": {},
   "outputs": [],
   "source": [
    "import pandas\n",
    "from dateutil import parser\n",
    "import matplotlib\n",
    "import matplotlib.pyplot as plt\n",
    "import pandas as pd\n",
    "import nltk\n",
    "from collections import Counter\n",
    "import string"
   ]
  },
  {
   "cell_type": "markdown",
   "id": "f010e0e7",
   "metadata": {},
   "source": [
    "# First Impression Analysis"
   ]
  },
  {
   "cell_type": "markdown",
   "id": "2bfad1c2",
   "metadata": {},
   "source": [
    "## Rating Count :"
   ]
  },
  {
   "cell_type": "markdown",
   "id": "7ae7972e",
   "metadata": {},
   "source": [
    "### For Parkman :"
   ]
  },
  {
   "cell_type": "code",
   "execution_count": 36,
   "id": "d5d0507c",
   "metadata": {},
   "outputs": [],
   "source": [
    "df = pandas.read_csv(\"parkman_trans.csv\", sep=\";\",engine='python' )"
   ]
  },
  {
   "cell_type": "code",
   "execution_count": 37,
   "id": "12de6fa6",
   "metadata": {
    "scrolled": false
   },
   "outputs": [
    {
     "data": {
      "text/plain": [
       "<AxesSubplot:xlabel='Review Count', ylabel='Rating'>"
      ]
     },
     "execution_count": 37,
     "metadata": {},
     "output_type": "execute_result"
    },
    {
     "data": {
      "image/png": "[encoded data removed]",
      "text/plain": [
       "<Figure size 432x288 with 1 Axes>"
      ]
     },
     "metadata": {
      "needs_background": "light"
     },
     "output_type": "display_data"
    }
   ],
   "source": [
    "df[\"rating\"]=df[\"rating\"].astype(float)\n",
    "plt.xlabel(\"Review Count\")\n",
    "plt.ylabel(\"Rating\")\n",
    "df.rating.value_counts().sort_values().plot(kind = 'barh',x='Count', y=\"rating\")"
   ]
  },
  {
   "cell_type": "markdown",
   "id": "82f2d2c8",
   "metadata": {},
   "source": [
    "### For EasyPark :"
   ]
  },
  {
   "cell_type": "code",
   "execution_count": 38,
   "id": "b9a637c2",
   "metadata": {},
   "outputs": [],
   "source": [
    "df2 = pandas.read_csv(\"easypark_trans.csv\", sep=\";\",engine='python' )\n",
    "df2=df2.dropna()"
   ]
  },
  {
   "cell_type": "code",
   "execution_count": 39,
   "id": "d238efed",
   "metadata": {
    "scrolled": true
   },
   "outputs": [
    {
     "data": {
      "text/plain": [
       "<AxesSubplot:xlabel='Review Count', ylabel='Rating'>"
      ]
     },
     "execution_count": 39,
     "metadata": {},
     "output_type": "execute_result"
    },
    {
     "data": {
      "image/png": "[encoded data removed]",
      "text/plain": [
       "<Figure size 432x288 with 1 Axes>"
      ]
     },
     "metadata": {
      "needs_background": "light"
     },
     "output_type": "display_data"
    }
   ],
   "source": [
    "df2[\"rating\"]=df2[\"rating\"].astype(float)\n",
    "plt.xlabel(\"Review Count\")\n",
    "plt.ylabel(\"Rating\")\n",
    "df2.rating.value_counts().sort_values().plot(kind = 'barh')"
   ]
  },
  {
   "cell_type": "markdown",
   "id": "d39fa14b",
   "metadata": {},
   "source": [
    "## Review Year Count :"
   ]
  },
  {
   "cell_type": "markdown",
   "id": "05a31b50",
   "metadata": {},
   "source": [
    "### For Parkman :"
   ]
  },
  {
   "cell_type": "code",
   "execution_count": 40,
   "id": "20ba2b9b",
   "metadata": {},
   "outputs": [],
   "source": [
    "for i in df.index:\n",
    "    df.at[i, 'date'] = parser.parse(df.at[i, 'date']).date().year"
   ]
  },
  {
   "cell_type": "code",
   "execution_count": 41,
   "id": "2cf60aee",
   "metadata": {
    "scrolled": true
   },
   "outputs": [
    {
     "data": {
      "text/plain": [
       "<AxesSubplot:xlabel='Review Count', ylabel='Review Date'>"
      ]
     },
     "execution_count": 41,
     "metadata": {},
     "output_type": "execute_result"
    },
    {
     "data": {
      "image/png": "[encoded data removed]",
      "text/plain": [
       "<Figure size 432x288 with 1 Axes>"
      ]
     },
     "metadata": {
      "needs_background": "light"
     },
     "output_type": "display_data"
    }
   ],
   "source": [
    "df[\"date\"]=df[\"date\"].astype(int)\n",
    "plt.xlabel(\"Review Count\")\n",
    "plt.ylabel(\"Review Date\")\n",
    "df.date.value_counts().sort_values().plot(kind = 'barh')"
   ]
  },
  {
   "cell_type": "markdown",
   "id": "44ba45cb",
   "metadata": {},
   "source": [
    "### For EasyPark : "
   ]
  },
  {
   "cell_type": "code",
   "execution_count": 42,
   "id": "214652d3",
   "metadata": {},
   "outputs": [],
   "source": [
    "for i in df2.index:\n",
    "    df2.at[i, 'date'] = parser.parse(df2.at[i, 'date']).date().year"
   ]
  },
  {
   "cell_type": "code",
   "execution_count": 43,
   "id": "1f26e9d7",
   "metadata": {
    "scrolled": true
   },
   "outputs": [
    {
     "data": {
      "text/plain": [
       "<AxesSubplot:xlabel='Review Count', ylabel='Review Date'>"
      ]
     },
     "execution_count": 43,
     "metadata": {},
     "output_type": "execute_result"
    },
    {
     "data": {
      "image/png": "[encoded data removed]",
      "text/plain": [
       "<Figure size 432x288 with 1 Axes>"
      ]
     },
     "metadata": {
      "needs_background": "light"
     },
     "output_type": "display_data"
    }
   ],
   "source": [
    "df2[\"date\"]=df2[\"date\"].astype(int)\n",
    "plt.xlabel(\"Review Count\")\n",
    "plt.ylabel(\"Review Date\")\n",
    "df2.date.value_counts().sort_values().plot(kind = 'barh')"
   ]
  },
  {
   "cell_type": "markdown",
   "id": "7894f3e6",
   "metadata": {},
   "source": [
    "## Top 10 Frequent Words "
   ]
  },
  {
   "cell_type": "markdown",
   "id": "e57ee702",
   "metadata": {},
   "source": [
    "### For Parkman :"
   ]
  },
  {
   "cell_type": "code",
   "execution_count": 44,
   "id": "3aff023b",
   "metadata": {},
   "outputs": [
    {
     "data": {
      "text/plain": [
       "<AxesSubplot:xlabel='Word'>"
      ]
     },
     "execution_count": 44,
     "metadata": {},
     "output_type": "execute_result"
    },
    {
     "data": {
      "image/png": "[encoded data removed]",
      "text/plain": [
       "<Figure size 720x360 with 1 Axes>"
      ]
     },
     "metadata": {
      "needs_background": "light"
     },
     "output_type": "display_data"
    }
   ],
   "source": [
    "dfEng = pandas.read_csv(\"/Users/WorkSpace/Desktop/parkman_trans.csv\", sep=\";\")\n",
    "\n",
    "stopwords = nltk.corpus.stopwords.words('english')\n",
    "customRemove=['10','parking','get','code','app']\n",
    "def remove_punctuations(text):\n",
    "    for punctuation in string.punctuation:\n",
    "        text = text.replace(punctuation, '')\n",
    "    return text\n",
    "# Apply to the DF series\n",
    "dfEng['content'] =dfEng['content'].astype('str')\n",
    "dfEng['content'] = dfEng['content'].apply(remove_punctuations)\n",
    "# RegEx for stopwords\n",
    "RE_stopwords = r'\\b(?:{})\\b'.format('|'.join(stopwords))\n",
    "RE_custom = r'\\b(?:{})\\b'.format('|'.join(customRemove))\n",
    "# replacing '|'-->' ' and droping all stopwords\n",
    "words = (dfEng.content\n",
    "           .str.lower()\n",
    "           .replace([r'\\|', RE_stopwords], [' ', ''], regex=True)\n",
    "           .replace([r'\\|', RE_custom], [' ', ''], regex=True)\n",
    "           .str.cat(sep=' ')\n",
    "           .split()\n",
    ")\n",
    "\n",
    "# Creating new dataframe just for keyword frequency\n",
    "result = pd.DataFrame(Counter(words).most_common(10),columns=['Word', 'Frequency']).set_index('Word')\n",
    "\n",
    "\n",
    "# plotting\n",
    "result.plot.bar(rot=0,figsize=(10,5), width=0.8)"
   ]
  },
  {
   "cell_type": "markdown",
   "id": "03968eeb",
   "metadata": {},
   "source": [
    "### For easypark"
   ]
  },
  {
   "cell_type": "code",
   "execution_count": 45,
   "id": "87f0e95f",
   "metadata": {},
   "outputs": [
    {
     "name": "stderr",
     "output_type": "stream",
     "text": [
      "c:\\users\\workspace\\appdata\\local\\programs\\python\\python39\\lib\\site-packages\\IPython\\core\\interactiveshell.py:3444: FutureWarning: The error_bad_lines argument has been deprecated and will be removed in a future version.\n",
      "\n",
      "\n",
      "  exec(code_obj, self.user_global_ns, self.user_ns)\n"
     ]
    },
    {
     "data": {
      "text/plain": [
       "<AxesSubplot:xlabel='Word'>"
      ]
     },
     "execution_count": 45,
     "metadata": {},
     "output_type": "execute_result"
    },
    {
     "data": {
      "image/png": "[encoded data removed]",
      "text/plain": [
       "<Figure size 720x360 with 1 Axes>"
      ]
     },
     "metadata": {
      "needs_background": "light"
     },
     "output_type": "display_data"
    }
   ],
   "source": [
    "df2Eng = pandas.read_csv(\"/Users/WorkSpace/Desktop/easyparkTrans.csv\", sep=\";\",error_bad_lines=False)\n",
    "df2Eng=df2Eng.dropna()\n",
    "\n",
    "# Define the function to remove the punctuation\n",
    "def remove_punctuations(text):\n",
    "    for punctuation in string.punctuation:\n",
    "        text = text.replace(punctuation, '')\n",
    "    return text\n",
    "# Apply to the DF series\n",
    "df2Eng['content'] =df2Eng['content'].astype('str')\n",
    "df2Eng['content'] = df2Eng['content'].apply(remove_punctuations)\n",
    "\n",
    "stopwords = nltk.corpus.stopwords.words('english')\n",
    "customRemove=['10','parking','get','code','app','application','even','one','park','car','easypark']\n",
    "# RegEx for stopwords\n",
    "RE_stopwords = r'\\b(?:{})\\b'.format('|'.join(stopwords))\n",
    "RE_custom = r'\\b(?:{})\\b'.format('|'.join(customRemove))\n",
    "# replacing '|'-->' ' and droping all stopwords\n",
    "words = (df2Eng.content\n",
    "           .str.lower()\n",
    "           .replace([r'\\|', RE_stopwords], [' ', ''], regex=True)\n",
    "           .replace([r'\\|', RE_custom], [' ', ''], regex=True)\n",
    "           .str.cat(sep=' ')\n",
    "           .split()\n",
    ")\n",
    "\n",
    "# Creating new dataframe just for keyword frequency\n",
    "result = pd.DataFrame(Counter(words).most_common(10),columns=['Word', 'Frequency']).set_index('Word')\n",
    "\n",
    "# plotting\n",
    "result.plot.bar(rot=0,figsize=(10,5), width=0.8)"
   ]
  },
  {
   "cell_type": "code",
   "execution_count": null,
   "id": "010d828d",
   "metadata": {},
   "outputs": [],
   "source": []
  }
 ],
 "metadata": {
  "kernelspec": {
   "display_name": "Python 3 (ipykernel)",
   "language": "python",
   "name": "python3"
  },
  "language_info": {
   "codemirror_mode": {
    "name": "ipython",
    "version": 3
   },
   "file_extension": ".py",
   "mimetype": "text/x-python",
   "name": "python",
   "nbconvert_exporter": "python",
   "pygments_lexer": "ipython3",
   "version": "3.9.5"
  }
 },
 "nbformat": 4,
 "nbformat_minor": 5
}
