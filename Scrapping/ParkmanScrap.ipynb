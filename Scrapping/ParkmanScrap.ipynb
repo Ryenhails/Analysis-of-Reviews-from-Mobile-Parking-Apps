{
 "cells": [
  {
   "cell_type": "code",
   "execution_count": 13,
   "id": "9b8d3f64",
   "metadata": {},
   "outputs": [],
   "source": [
    "from app_store_scraper import AppStore\n",
    "\n",
    "from google_play_scraper import Sort, reviews_all\n",
    "\n",
    "import pandas as pd\n",
    "\n",
    "import numpy as np\n",
    "\n",
    "import json\n",
    "\n",
    "import datetime\n",
    "\n",
    "from dateutil import parser\n"
   ]
  },
  {
   "cell_type": "markdown",
   "id": "ed400990",
   "metadata": {},
   "source": [
    "# Android Scraping"
   ]
  },
  {
   "cell_type": "code",
   "execution_count": 14,
   "id": "2f3fb842",
   "metadata": {},
   "outputs": [],
   "source": [
    "#Scrapping from finland in Finnish\n",
    "fi_reviewsFin = reviews_all(\n",
    "    'com.neligrate.parkman',\n",
    "    sleep_milliseconds=0, \n",
    "    lang='fi', #change from fi/en\n",
    "    country='fi', #keep only fi  , other countries do not have reviews\n",
    ")\n",
    "dSet1 = pd.DataFrame(np.array(fi_reviewsFin),columns=['review']) #Transforming from json to Pandas dataframe\n",
    "dSet1 = dSet1.join(pd.DataFrame(dSet1.pop('review').tolist()))\n",
    "dSet1.drop(['reviewId','userImage','thumbsUpCount','replyContent','repliedAt'],axis=1,inplace=True)#dropping unnecessary columns\n",
    "dSet1.rename({'score':'rating', 'reviewCreatedVersion':'reviewVersion', 'at':'date'}, axis='columns',inplace=True) #renaming the columns\n",
    "dSet1 = dSet1[[\"userName\",\"content\",\"rating\",\"date\",\"reviewVersion\"]] #reordering the columns\n",
    "for i in dSet1.index:\n",
    "    dSet1.at[i, 'date'] = dSet1.at[i, 'date'].date()"
   ]
  },
  {
   "cell_type": "code",
   "execution_count": 15,
   "id": "700c3c7a",
   "metadata": {},
   "outputs": [],
   "source": [
    "#Scrapping from finland in English\n",
    "fi_reviewsEn = reviews_all(\n",
    "    'com.neligrate.parkman',\n",
    "    sleep_milliseconds=0, \n",
    "    lang='en', \n",
    "    country='fi', \n",
    "    \n",
    ")\n",
    "dSet2 = pd.DataFrame(np.array(fi_reviewsEn),columns=['review']) #Transforming from json to Pandas dataframe\n",
    "dSet2 = dSet2.join(pd.DataFrame(dSet2.pop('review').tolist())) \n",
    "dSet2.drop(['reviewId','userImage','thumbsUpCount','replyContent','repliedAt'],axis=1,inplace=True) #dropping unnecessary columns\n",
    "dSet2.rename({'score':'rating', 'reviewCreatedVersion':'reviewVersion', 'at':'date'}, axis='columns',inplace=True)#renaming the columns\n",
    "dSet2 = dSet2[[\"userName\",\"content\",\"rating\",\"date\",\"reviewVersion\"]]\n",
    "for i in dSet2.index:\n",
    "    dSet2.at[i, 'date'] = dSet2.at[i, 'date'].date()"
   ]
  },
  {
   "cell_type": "code",
   "execution_count": null,
   "id": "95a0e350",
   "metadata": {},
   "outputs": [],
   "source": []
  },
  {
   "cell_type": "markdown",
   "id": "68651b3c",
   "metadata": {},
   "source": [
    "# Ios Scrapping"
   ]
  },
  {
   "cell_type": "code",
   "execution_count": 16,
   "id": "b143409b",
   "metadata": {},
   "outputs": [
    {
     "name": "stderr",
     "output_type": "stream",
     "text": [
      "2021-10-27 19:52:21,893 [INFO] Base - Initialised: AppStore('fi', 'parkman', 505190698)\n",
      "2021-10-27 19:52:21,895 [INFO] Base - Ready to fetch reviews from: https://apps.apple.com/fi/app/parkman/id505190698\n",
      "2021-10-27 19:52:23,298 [INFO] Base - [id:505190698] Fetched 447 reviews (447 fetched in total)\n"
     ]
    }
   ],
   "source": [
    "#Scrapping from finland appstore\n",
    "reviewsFi = AppStore(\n",
    "  country='fi',       \n",
    "  app_name='parkman',\n",
    "  app_id=505190698    \n",
    ") \n",
    "    \n",
    "## Using review method to scrape reviews from App Store\n",
    "reviewsFi.review()"
   ]
  },
  {
   "cell_type": "code",
   "execution_count": 17,
   "id": "96a9de40",
   "metadata": {},
   "outputs": [
    {
     "name": "stderr",
     "output_type": "stream",
     "text": [
      "2021-10-27 19:52:23,419 [INFO] Base - Initialised: AppStore('dk', 'parkman', 505190698)\n",
      "2021-10-27 19:52:23,420 [INFO] Base - Ready to fetch reviews from: https://apps.apple.com/dk/app/parkman/id505190698\n",
      "2021-10-27 19:52:24,531 [INFO] Base - [id:505190698] Fetched 348 reviews (348 fetched in total)\n"
     ]
    }
   ],
   "source": [
    "#Scrapping from Denmark appstore\n",
    "reviewsDk = AppStore(\n",
    "  country='dk',       \n",
    "  app_name='parkman',\n",
    "  app_id=505190698    \n",
    ") \n",
    "    \n",
    "## Using review method to scrape reviews from App Store\n",
    "reviewsDk.review()"
   ]
  },
  {
   "cell_type": "code",
   "execution_count": 18,
   "id": "84c041b9",
   "metadata": {},
   "outputs": [],
   "source": [
    "###Finland Dataframes\n",
    "df1 = pd.DataFrame(np.array(reviewsFi.reviews),columns=['review'])\n",
    "\n",
    "df1 = df1.join(pd.DataFrame(df1.pop('review').tolist()))\n",
    "###Denmark Dataframes\n",
    "df2 = pd.DataFrame(np.array(reviewsFi.reviews),columns=['review'])\n",
    "\n",
    "df2 = df2.join(pd.DataFrame(df2.pop('review').tolist()))\n"
   ]
  },
  {
   "cell_type": "code",
   "execution_count": 19,
   "id": "55fa0e34",
   "metadata": {},
   "outputs": [],
   "source": [
    "versionList=[    \n",
    "['4.51','Oct 4, 2021'],['4.50','Sep 17, 2021'],['4.49','Sep 9, 2021'],['4.48','Aug 24, 2021'],['4.47','Jul 13, 2021'],['4.46','Jul 5, 2021'],\n",
    "['4.45','May 31, 2021'],['4.44','May 7, 2021'],['4.43','May 4, 2021'],['4.42','Apr 19, 2021'],['4.41','Mar 29, 2021'],['4.40','Mar 18, 2021'],\n",
    "['4.39','Mar 2, 2021'],['4.38','Feb 6, 2021'],['4.37','Jan 26, 2021'],['4.36','Jan 22, 2021'],['4.35','Jan 14, 2021'],['4.34','Jan 6, 2021'],\n",
    "['4.32','Dec 29, 2020'],['4.31','Dec 22, 2020'],['4.30','Dec 18, 2020'],['4.29','Dec 8, 2020'],['4.28','Nov 26, 2020'],['4.26','Nov 12, 2020'],\n",
    "['4.25','Nov 2, 2020'],['4.24','Oct 29, 2020'],['4.23','Oct 26, 2020'],['4.22','Oct 20, 2020'],['4.21','Oct 6, 2020'],['4.19','Sep 24, 2020'],\n",
    "['4.18','Sep 23, 2020'],['4.17','Sep 16, 2020'],['4.16','Aug 6, 2020'],['4.15','Jun 30, 2020'],['4.14','Jun 24, 2020'],['4.13','May 21, 2020'],['4.12','May 13, 2020'],\n",
    "['4.11','May 7, 2020'],['4.01','May 5, 2020'],['4.0','May 4, 2020'],['3.92','Apr 6, 2020'],['3.91','Mar 19, 2020'],['3.90','Mar 18, 2020'],\n",
    "['3.89','Feb 25, 2020'],['3.88','Feb 6, 2020'],['3.87','Jan 22, 2020'],['3.86','Jan 14, 2020'],['3.85','Dec 14, 2019'],['3.84','Dec 10, 2019'],\n",
    "['3.83','Dec 4, 2019'],['3.82','Nov 29, 2019'],['3.81','Nov 19, 2019'],['3.80','Nov 6, 2019'],['3.79','Nov 1, 2019'],['3.78','Oct 22, 2019'],\n",
    "['3.77','Oct 9, 2019'],['3.76','Sep 15, 2019'],['3.75','Sep 10, 2019'],['3.73','Aug 28, 2019'],['3.72','Aug 6, 2019'],['3.71','Jul 17, 2019'],\n",
    "['3.70','Jul 10, 2019'],['3.69','Jun 29, 2019'],['3.68','Jun 8, 2019'],['3.67','Jun 1, 2019'],['3.65','May 3, 2019'],['3.64','May 2, 2019'],\n",
    "['3.63','Apr 19, 2019'],['3.62','Apr 17, 2019'],['3.61','Mar 5, 2019'],['3.60','Feb 22, 2019'],['3.59','Feb 10, 2019'],['3.58','Feb 4, 2019'],\n",
    "['3.56','Jan 23, 2019'],['3.55','Jan 18, 2019'],['3.54','Dec 20, 2018'],['3.53','Dec 14, 2018'],['3.52','Nov 18, 2018'],['3.51','Nov 12, 2018'],\n",
    "['3.50','Oct 21, 2018'],['3.47','Sep 6, 2018'],['3.46','Aug 17, 2018'],['3.45','Aug 15, 2018'],['3.44','Jun 16, 2018'],['3.43','May 22, 2018'],\n",
    "['3.42','May 19, 2018'],['3.41','Feb 15, 2018'],['3.40','Feb 11, 2018'],['3.33','Dec 17, 2017'],['3.32','Dec 15, 2017'],['3.31','Nov 29, 2017'],\n",
    "['3.30','Nov 11, 2017'],['3.27','Oct 11, 2017'],['3.26','Jun 26, 2017'],['3.25','Jun 5, 2017'],['3.24','May 31, 2017'],['3.23','May 30, 2017'],\n",
    "['3.22','Apr 24, 2017'],['3.21','Mar 8, 2017'],['3.20','Feb 28, 2017'],['3.19','Jan 9, 2017'],['3.18','Nov 4, 2016'],['3.17','Sep 16, 2016'],\n",
    "['3.16','Sep 13, 2016'],['3.15','Aug 15, 2016'],['3.14','Jul 22, 2016'],['3.13','Jun 9, 2016'],['3.12','Jun 6, 2016'],['3.11','May 24, 2016'],\n",
    "['3.00','May 2, 2016'],['2.991','Apr 6, 2016'],['2.99','Mar 29, 2016'],['2.98','Feb 15, 2016'],['2.97','Dec 19, 2015'],['2.96','Nov 3, 2015'],\n",
    "['2.95','Aug 7, 2015'],['2.90','Jul 12, 2015'],['2.85','Jul 7, 2015'],['2.8.1','May 16, 2015'],['2.8.0','Mar 16, 2015'],['2.6.5','Feb 1, 2015'],\n",
    "['2.6.4','Dec 10, 2014'],['2.6.3','Nov 22, 2014'],['2.6.2','Oct 4, 2014'],['2.6.1','Oct 1, 2014'],['2.6.0','Aug 22, 2014'],['2.5.9','May 14, 2014'],\n",
    "['2.5.8','May 8, 2014'],['2.5.7','Apr 17, 2014'],['2.5.6','Apr 9, 2014'],['2.5.5','Apr 2, 2014'],['2.5.4','Mar 20, 2014'],['2.5.3','Mar 13, 2014'],\n",
    "['2.5.2','Feb 19, 2014'],['2.5.1','Feb 9, 2014'],['2.05','Mar 15, 2013'],['2.04','Feb 14, 2013'],['2.03','Feb 5, 2013'],['2.02','Jan 23, 2013'],['2.01','Dec 19, 2012'],\n",
    "['2.0','Nov 27, 2012'],['1.12','Jun 6, 2012'],['1.10','May 21, 2012'],['1.05','Apr 17, 2012'],['1.0','Mar 9, 2012']\n",
    "]"
   ]
  },
  {
   "cell_type": "markdown",
   "id": "786c3ef8",
   "metadata": {},
   "source": [
    "### Assigning Versions to IOS reviews according to version history and review dates"
   ]
  },
  {
   "cell_type": "code",
   "execution_count": 20,
   "id": "aeab8abf",
   "metadata": {},
   "outputs": [],
   "source": [
    "for i in df1.index:\n",
    "    curDiff=1000000\n",
    "    curVersion='0'\n",
    "    for x in versionList:\n",
    "        versionDate=parser.parse(x[1])\n",
    "        if((df1.at[i, 'date']-versionDate).days>0 and ((df1.at[i, 'date']-versionDate).days)<curDiff):\n",
    "            curDiff=(df1.at[i, 'date']-versionDate).days\n",
    "            curVersion=x[0] \n",
    "    \n",
    "    df1.at[i,'reviewVersion']=curVersion"
   ]
  },
  {
   "cell_type": "code",
   "execution_count": 21,
   "id": "d24bd1a8",
   "metadata": {},
   "outputs": [],
   "source": [
    "for i in df2.index:\n",
    "    curDiff=1000000\n",
    "    curVersion='0'\n",
    "    for x in versionList:\n",
    "        versionDate=parser.parse(x[1])# From string to date time\n",
    "        if((df2.at[i, 'date']-versionDate).days>0 and ((df2.at[i, 'date']-versionDate).days)<curDiff): #picking the appropriate version according to the review date\n",
    "            curDiff=(df2.at[i, 'date']-versionDate).days\n",
    "            curVersion=x[0] \n",
    "    \n",
    "    df2.at[i,'reviewVersion']=curVersion"
   ]
  },
  {
   "cell_type": "markdown",
   "id": "f33510a4",
   "metadata": {},
   "source": [
    "### Dropping unnecessary columns and rearraging them"
   ]
  },
  {
   "cell_type": "code",
   "execution_count": 22,
   "id": "b6fc6dad",
   "metadata": {},
   "outputs": [],
   "source": [
    "df1.drop(['isEdited','title','developerResponse'],axis=1,inplace=True)\n",
    "df1.rename({'review':'content'}, axis='columns',inplace=True)\n",
    "df1 = df1[[\"userName\",\"content\",\"rating\",\"date\",\"reviewVersion\"]]\n",
    "\n",
    "df2.drop(['isEdited','title','developerResponse'],axis=1,inplace=True)\n",
    "df2.rename({'review':'content'}, axis='columns',inplace=True)\n",
    "df2 = df2[[\"userName\",\"content\",\"rating\",\"date\",\"reviewVersion\"]]"
   ]
  },
  {
   "cell_type": "code",
   "execution_count": 23,
   "id": "de73cd6d",
   "metadata": {},
   "outputs": [],
   "source": [
    "#Merging the datasets\n",
    "frames = [dSet1, dSet2,df1,df2]\n",
    "\n",
    "dSet = pd.concat(frames)"
   ]
  },
  {
   "cell_type": "code",
   "execution_count": 24,
   "id": "1ecedbb6",
   "metadata": {},
   "outputs": [],
   "source": [
    "#Saving to csv file\n",
    "dSet.to_csv('parkman.csv', mode='a', sep=';', index=False, header=False)"
   ]
  }
 ],
 "metadata": {
  "kernelspec": {
   "display_name": "Python 3 (ipykernel)",
   "language": "python",
   "name": "python3"
  },
  "language_info": {
   "codemirror_mode": {
    "name": "ipython",
    "version": 3
   },
   "file_extension": ".py",
   "mimetype": "text/x-python",
   "name": "python",
   "nbconvert_exporter": "python",
   "pygments_lexer": "ipython3",
   "version": "3.9.5"
  }
 },
 "nbformat": 4,
 "nbformat_minor": 5
}
