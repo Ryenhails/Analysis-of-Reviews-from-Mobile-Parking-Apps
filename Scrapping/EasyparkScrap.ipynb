{
 "cells": [
  {
   "cell_type": "code",
   "execution_count": 176,
   "id": "c5971913",
   "metadata": {},
   "outputs": [],
   "source": [
    "from app_store_scraper import AppStore\n",
    "\n",
    "from google_play_scraper import Sort, reviews_all\n",
    "\n",
    "import pandas as pd\n",
    "\n",
    "import numpy as np\n",
    "\n",
    "import json\n",
    "\n",
    "import datetime\n",
    "    "
   ]
  },
  {
   "cell_type": "markdown",
   "id": "73d5b325",
   "metadata": {},
   "source": [
    "# Android Scrapping"
   ]
  },
  {
   "cell_type": "code",
   "execution_count": 177,
   "id": "bbc4a1eb",
   "metadata": {},
   "outputs": [
    {
     "data": {
      "text/plain": [
       "(1932, 10)"
      ]
     },
     "execution_count": 177,
     "metadata": {},
     "output_type": "execute_result"
    }
   ],
   "source": [
    "#Scrapping and specifying configuration\n",
    "fi_reviews = reviews_all(\n",
    "    'net.easypark.android', # choosing packagename\n",
    "    sleep_milliseconds=0, \n",
    "    lang='en', #choose language from en,fi,fr,es,no but use english one time to not duplicate the data \n",
    "    country='fi', #keep changing countries from fi,no,fr,es    \n",
    ")\n",
    "\n",
    "dSet = pd.DataFrame(np.array(fi_reviews),columns=['review'])\n",
    "dSet = dSet.join(pd.DataFrame(dSet.pop('review').tolist()))\n",
    "\n",
    "dSet.shape\n"
   ]
  },
  {
   "cell_type": "code",
   "execution_count": 178,
   "id": "bd7fccf1",
   "metadata": {},
   "outputs": [],
   "source": [
    "#Dropping unecessary columns and rearraging them\n",
    "dSet.drop(['reviewId','userImage','thumbsUpCount','replyContent','repliedAt'],axis=1,inplace=True)\n",
    "dSet.rename({'score':'rating', 'reviewCreatedVersion':'reviewVersion', 'at':'date'}, axis='columns',inplace=True)\n",
    "dSet = dSet[[\"userName\",\"content\",\"rating\",\"date\",\"reviewVersion\"]]\n",
    "#Removing the time from the date\n",
    "for i in dSet.index:\n",
    "    dSet.at[i, 'date'] = dSet.at[i, 'date'].date()"
   ]
  },
  {
   "cell_type": "code",
   "execution_count": 179,
   "id": "5406ba09",
   "metadata": {},
   "outputs": [],
   "source": [
    "#Saving To easypark csv file\n",
    "dSet.to_csv('/Users/WorkSpace/Desktop/ProjectTest/easypark.csv', mode='a', header=False, sep=';')"
   ]
  },
  {
   "cell_type": "markdown",
   "id": "4cd70dff",
   "metadata": {},
   "source": [
    "# IOS Scrapping"
   ]
  },
  {
   "cell_type": "code",
   "execution_count": 180,
   "id": "95916844",
   "metadata": {},
   "outputs": [
    {
     "name": "stderr",
     "output_type": "stream",
     "text": [
      "2021-10-12 04:14:39,427 [INFO] Base - Initialised: AppStore('de', 'easypark', 449594317)\n",
      "2021-10-12 04:14:39,429 [INFO] Base - Ready to fetch reviews from: https://apps.apple.com/de/app/easypark/id449594317\n",
      "2021-10-12 04:14:44,620 [INFO] Base - [id:449594317] Fetched 660 reviews (660 fetched in total)\n",
      "2021-10-12 04:14:45,214 [INFO] Base - [id:449594317] Fetched 710 reviews (710 fetched in total)\n"
     ]
    }
   ],
   "source": [
    "my_app = AppStore(\n",
    "  country='de',        #keep changing countries from fi,no,dk,se,fr,es,de\n",
    "  app_name='easypark',  \n",
    "  app_id=449594317    \n",
    ")     \n",
    "## Use review method to scrape reviews from App Store\n",
    "my_app.review()"
   ]
  },
  {
   "cell_type": "code",
   "execution_count": 181,
   "id": "96791db5",
   "metadata": {},
   "outputs": [],
   "source": [
    "df = pd.DataFrame(np.array(my_app.reviews),columns=['review'])\n",
    "\n",
    "df = df.join(pd.DataFrame(df.pop('review').tolist()))"
   ]
  },
  {
   "cell_type": "code",
   "execution_count": 182,
   "id": "9270b045",
   "metadata": {},
   "outputs": [],
   "source": [
    "#### Dropping unnecessary columns \n",
    "df.drop(['isEdited','title','developerResponse'],axis=1,inplace=True)\n",
    "df.rename({'review':'content'}, axis='columns',inplace=True)"
   ]
  },
  {
   "cell_type": "code",
   "execution_count": 183,
   "id": "c6e80cf2",
   "metadata": {},
   "outputs": [],
   "source": [
    "#Assigning Versions to IOS reviews according to version history and review dates\n",
    "myList=[[datetime.datetime(2021,10,4),'15.28.0'],[datetime.datetime(2021,9,20),'15.27.1'],\n",
    "        [datetime.datetime(2021,9,14),'15.27.0'],[datetime.datetime(2021,8,24),'15.26.0'],\n",
    "        [datetime.datetime(2021,8,10),'15.25.0'],[datetime.datetime(2021,7,12),'15.24.0']\n",
    "       ,[datetime.datetime(2021,6,23),'15.23.0'],[datetime.datetime(2021,6,6),'15.22.0']\n",
    "       ,[datetime.datetime(2021,5,17),'15.21.0'],[datetime.datetime(2021,4,24),'15.20.1']\n",
    "       ,[datetime.datetime(2021,4,20),'15.20.0'],[datetime.datetime(2021,3,29),'15.19.0']\n",
    "       ,[datetime.datetime(2021,3,20),'15.18.1'],[datetime.datetime(2021,2,23),'15.17.1']\n",
    "       ,[datetime.datetime(2021,2,17),'15.17.0'],[datetime.datetime(2021,1,25),'15.16.0']\n",
    "       ,[datetime.datetime(2021,1,11),'15.15.0'],[datetime.datetime(2020,12,8),'15.14.1']\n",
    "       ,[datetime.datetime(2020,12,3),'15.14.0'],[datetime.datetime(2020,11,27),'15.13.1']\n",
    "       ,[datetime.datetime(2020,11,12),'15.13'],[datetime.datetime(2020,10,7),'15.12.1']\n",
    "       ,[datetime.datetime(2020,10,5),'15.12.0'],[datetime.datetime(2020,9,28),'15.11.1']\n",
    "       ,[datetime.datetime(2020,8,26),'15.11.0'],[datetime.datetime(2020,7,27),'15.10.0']\n",
    "       ,[datetime.datetime(2020,7,9),'15.9'],[datetime.datetime(2020,6,15),'15.8.1']\n",
    "       ,[datetime.datetime(2020,6,4),'15.8'],[datetime.datetime(2020,5,30),'15.7']\n",
    "       ,[datetime.datetime(2020,5,7),'15.6'],[datetime.datetime(2020,4,23),'15.5']\n",
    "       ,[datetime.datetime(2020,3,31),'15.4'],[datetime.datetime(2020,3,12),'15.3']\n",
    "       ,[datetime.datetime(2020,3,5),'15.2'],[datetime.datetime(2020,2,27),'15.1.1']\n",
    "       ,[datetime.datetime(2020,2,20),'15.1'],[datetime.datetime(2020,2,7),'15.0']\n",
    "       ,[datetime.datetime(2020,1,10),'14.8'],[datetime.datetime(2019,12,11),'14.6.1']\n",
    "       ,[datetime.datetime(2019,12,5),'14.6'],[datetime.datetime(2019,11,21),'14.5.1']\n",
    "       ,[datetime.datetime(2019,11,20),'14.5'],[datetime.datetime(2019,11,12),'14.4.1']\n",
    "       ,[datetime.datetime(2019,11,7),'14.4'],[datetime.datetime(2019,10,24),'14.3']\n",
    "       ,[datetime.datetime(2019,10,7),'14.2'],[datetime.datetime(2019,9,30),'14.1']\n",
    "       ,[datetime.datetime(2019,9,11),'14.0'],[datetime.datetime(2019,8,28),'13.9']\n",
    "       ,[datetime.datetime(2019,8,14),'13.8'],[datetime.datetime(2019,7,29),'13.7']\n",
    "       ,[datetime.datetime(2019,7,17),'13.6.1'],[datetime.datetime(2019,7,11),'13.6']\n",
    "       ,[datetime.datetime(2019,7,4),'13.5.2'],[datetime.datetime(2019,7,3),'13.5.1']\n",
    "       ,[datetime.datetime(2019,6,27),'13.5'],[datetime.datetime(2019,6,13),'13.4.1']\n",
    "       ,[datetime.datetime(2019,6,12),'13.4'],[datetime.datetime(2019,5,23),'13.3']\n",
    "       ,[datetime.datetime(2019,5,14),'13.2'],[datetime.datetime(2019,4,29),'13.1']\n",
    "       ,[datetime.datetime(2019,4,15),'13.0'],[datetime.datetime(2019,3,28),'12.7']\n",
    "       ,[datetime.datetime(2019,2,27),'12.6'],[datetime.datetime(2019,2,12),'12.5']\n",
    "       ,[datetime.datetime(2019,1,22),'12.4'],[datetime.datetime(2019,1,15),'12.3']\n",
    "       ,[datetime.datetime(2019,1,8),'12.2'],[datetime.datetime(2019,1,5),'12.0.1']\n",
    "       ,[datetime.datetime(2018,12,18),'12.0'],[datetime.datetime(2018,12,2),'11.7.1']\n",
    "       ,[datetime.datetime(2018,11,29),'11.7'],[datetime.datetime(2018,10,31),'11.6']\n",
    "       ,[datetime.datetime(2018,10,16),'11.5'],[datetime.datetime(2018,9,27),'11.4']\n",
    "       ,[datetime.datetime(2018,9,13),'11.3'],[datetime.datetime(2018,8,27),'11.2.1']\n",
    "       ,[datetime.datetime(2018,8,27),'11.2.1'],[datetime.datetime(2018,8,13),'11.2']\n",
    "       ,[datetime.datetime(2018,7,24),'11.1'],[datetime.datetime(2018,7,10),'11.0.1']\n",
    "       ,[datetime.datetime(2018,7,4),'11.0'],[datetime.datetime(2018,6,19),'10.9']\n",
    "       ,[datetime.datetime(2018,6,12),'10.8'],[datetime.datetime(2018,5,28),'10.7']\n",
    "       ,[datetime.datetime(2018,5,21),'10.6.1'],[datetime.datetime(2018,5,9),'10.6']\n",
    "       ,[datetime.datetime(2018,4,12),'10.5.2'],[datetime.datetime(2018,4,9),'10.5.1']\n",
    "       ,[datetime.datetime(2018,4,5),'10.5'],[datetime.datetime(2018,2,26),'10.4.1']\n",
    "       ,[datetime.datetime(2018,2,21),'10.4'],[datetime.datetime(2018,2,12),'10.3.1']\n",
    "       ,[datetime.datetime(2018,2,6),'10.3'],[datetime.datetime(2018,1,17),'10.2.1']\n",
    "       ,[datetime.datetime(2017,12,14),'10.2'],[datetime.datetime(2017,12,6),'10.1']\n",
    "       ,[datetime.datetime(2017,11,20),'10.0.3'],[datetime.datetime(2017,11,15),'10.0.2']\n",
    "       ,[datetime.datetime(2017,10,26),'10.0.1'],[datetime.datetime(2017,10,23),'10.0']\n",
    "       ,[datetime.datetime(2017,9,23),'5.9.1'],[datetime.datetime(2017,8,4),'5.9']\n",
    "       ,[datetime.datetime(2017,7,4),'5.8.9'],[datetime.datetime(2017,6,26),'5.8.8']\n",
    "       ,[datetime.datetime(2017,6,15),'5.8.7'],[datetime.datetime(2017,5,9),'5.8.6']\n",
    "       ,[datetime.datetime(2017,4,4),'5.8.5'],[datetime.datetime(2017,1,17),'5.8.4']\n",
    "       ,[datetime.datetime(2016,12,14),'5.8.3'],[datetime.datetime(2016,12,4),'5.8.2']\n",
    "       ,[datetime.datetime(2016,11,17),'5.8.1'],[datetime.datetime(2016,11,12),'5.8']\n",
    "       ,[datetime.datetime(2016,9,20),'5.7.1'],[datetime.datetime(2016,9,17),'5.7']\n",
    "       ,[datetime.datetime(2016,7,12),'5.6'],[datetime.datetime(2016,5,19),'5.5']\n",
    "       ,[datetime.datetime(2016,4,9),'5.4.1'],[datetime.datetime(2016,3,23),'5.4']\n",
    "       ,[datetime.datetime(2016,2,15),'5.3'],[datetime.datetime(2015,12,14),'5.2']\n",
    "       ,[datetime.datetime(2015,10,21),'5.1'],[datetime.datetime(2015,9,2),'5.0']\n",
    "       ,[datetime.datetime(2015,7,8),'4.9.1'],[datetime.datetime(2015,6,22),'4.8']\n",
    "       ,[datetime.datetime(2015,4,20),'4.5'],[datetime.datetime(2015,3,20),'4.4']\n",
    "       ,[datetime.datetime(2015,2,24),'4.3'],[datetime.datetime(2015,1,22),'4.2']\n",
    "       ,[datetime.datetime(2014,12,16),'4.1'],[datetime.datetime(2014,11,12),'4.0']\n",
    "       ,[datetime.datetime(2014,10,19),'3.9.2'],[datetime.datetime(2014,9,22),'3.9']\n",
    "       ,[datetime.datetime(2014,6,23),'3.8'],[datetime.datetime(2014,6,2),'3.7']\n",
    "       ,[datetime.datetime(2014,5,16),'3.6.3'],[datetime.datetime(2014,4,14),'3.6']\n",
    "       ,[datetime.datetime(2014,3,12),'3.5.3'],[datetime.datetime(2014,1,19),'3.5.1']\n",
    "       ,[datetime.datetime(2014,1,3),'3.5'],[datetime.datetime(2013,11,21),'3.4']\n",
    "       ,[datetime.datetime(2013,11,8),'3.3.1'],[datetime.datetime(2013,9,24),'3.3']\n",
    "       ,[datetime.datetime(2013,6,27),'3.2'],[datetime.datetime(2013,5,21),'3.1']\n",
    "       ,[datetime.datetime(2013,4,26),'3.0.12'],[datetime.datetime(2013,4,3),'3.0.10']\n",
    "       ,[datetime.datetime(2013,2,15),'3.0.9'],[datetime.datetime(2013,1,9),'3.0']\n",
    "       ,[datetime.datetime(2012,11,18),'2.2'],[datetime.datetime(2012,8,24),'2.1']\n",
    "       ,[datetime.datetime(2012,6,14),'2.0'],[datetime.datetime(2011,8,12),'1.1']\n",
    "       ,[datetime.datetime(2011,7,20),'1.0']]\n",
    "\n",
    "curDiff=1000000\n",
    "curVersion='0'\n",
    "for i in df.index:\n",
    "    curDiff=1000000\n",
    "    curVersion='0'\n",
    "    for x in myList:\n",
    "        if((df.at[i, 'date']-x[0]).days>0 and ((df.at[i, 'date']-x[0]).days)<curDiff): #Assigning the version witht the closest date to the review\n",
    "            curDiff=(df.at[i, 'date']-x[0]).days\n",
    "            curVersion=x[1] \n",
    "    \n",
    "    df.at[i,'reviewVersion']=curVersion\n",
    "        "
   ]
  },
  {
   "cell_type": "code",
   "execution_count": 184,
   "id": "0d6a274a",
   "metadata": {},
   "outputs": [],
   "source": [
    "#Removing the time from the date\n",
    "for i in df.index:\n",
    "    df.at[i, 'date'] = df.at[i, 'date'].date()\n",
    "#Reordering the columns\n",
    "df = df[[\"userName\",\"content\",\"rating\",\"date\",\"reviewVersion\"]]"
   ]
  },
  {
   "cell_type": "code",
   "execution_count": 185,
   "id": "249581b6",
   "metadata": {
    "scrolled": false
   },
   "outputs": [
    {
     "data": {
      "text/plain": [
       "(710, 5)"
      ]
     },
     "execution_count": 185,
     "metadata": {},
     "output_type": "execute_result"
    }
   ],
   "source": [
    "df.shape"
   ]
  },
  {
   "cell_type": "code",
   "execution_count": 186,
   "id": "3df0083b",
   "metadata": {},
   "outputs": [],
   "source": [
    "#Saving To easypark csv file\n",
    "df.to_csv('easypark.csv', mode='a', header=False, sep=';')"
   ]
  }
 ],
 "metadata": {
  "kernelspec": {
   "display_name": "Python 3 (ipykernel)",
   "language": "python",
   "name": "python3"
  },
  "language_info": {
   "codemirror_mode": {
    "name": "ipython",
    "version": 3
   },
   "file_extension": ".py",
   "mimetype": "text/x-python",
   "name": "python",
   "nbconvert_exporter": "python",
   "pygments_lexer": "ipython3",
   "version": "3.9.5"
  }
 },
 "nbformat": 4,
 "nbformat_minor": 5
}
